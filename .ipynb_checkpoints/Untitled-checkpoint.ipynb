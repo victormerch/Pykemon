{
 "cells": [
  {
   "cell_type": "code",
   "execution_count": 5,
   "id": "4be93cf7-0c2f-4deb-913f-2472bcaf6e3b",
   "metadata": {},
   "outputs": [
    {
     "ename": "SyntaxError",
     "evalue": "invalid character '“' (U+201C) (2582166759.py, line 8)",
     "output_type": "error",
     "traceback": [
      "\u001b[0;36m  Input \u001b[0;32mIn [5]\u001b[0;36m\u001b[0m\n\u001b[0;31m    Pygame.display.set_caption(“Juego BALL”)\u001b[0m\n\u001b[0m                               ^\u001b[0m\n\u001b[0;31mSyntaxError\u001b[0m\u001b[0;31m:\u001b[0m invalid character '“' (U+201C)\n"
     ]
    }
   ],
   "source": [
    "import sys, pygame\n",
    "# Inicializamos pygame\n",
    "pygame.init()\n",
    "# Muestro una ventana de 800x600\n",
    "size = 800, 600\n",
    "screen = pygame.display.set_mode(size)\n",
    "# Cambio el título de la ventana\n",
    "Pygame.display.set_caption(\"Juego BALL\")\n",
    "# Comenzamos el bucle del juego\n",
    "run=True\n",
    "while run:\n",
    "    # Capturamos los eventos que se han producido\n",
    "    for event in pygame.event.get():\n",
    "        # Si el evento es salir de la ventana, terminamos\n",
    "        if event.type == pygame.QUIT: run = False\n",
    "# Salgo de pygame\n",
    "pygame.quit()"
   ]
  },
  {
   "cell_type": "code",
   "execution_count": null,
   "id": "bb108e4d-53e9-4161-99a8-49a6f489580b",
   "metadata": {},
   "outputs": [],
   "source": []
  },
  {
   "cell_type": "code",
   "execution_count": null,
   "id": "4242d641-a7ca-4dae-86b7-68c222511750",
   "metadata": {},
   "outputs": [],
   "source": []
  }
 ],
 "metadata": {
  "kernelspec": {
   "display_name": "Python 3 (ipykernel)",
   "language": "python",
   "name": "python3"
  },
  "language_info": {
   "codemirror_mode": {
    "name": "ipython",
    "version": 3
   },
   "file_extension": ".py",
   "mimetype": "text/x-python",
   "name": "python",
   "nbconvert_exporter": "python",
   "pygments_lexer": "ipython3",
   "version": "3.9.12"
  }
 },
 "nbformat": 4,
 "nbformat_minor": 5
}
